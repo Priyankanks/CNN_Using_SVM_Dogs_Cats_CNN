{
 "cells": [
  {
   "cell_type": "code",
   "execution_count": 174,
   "metadata": {
    "id": "Dsn8sT3g5Daq"
   },
   "outputs": [],
   "source": [
    "from tensorflow.keras.preprocessing.image import ImageDataGenerator"
   ]
  },
  {
   "cell_type": "code",
   "execution_count": 175,
   "metadata": {
    "id": "sZ1XbE4MeZab"
   },
   "outputs": [],
   "source": [
    "train_gen = ImageDataGenerator(rescale= 1./255,\n",
    "                               shear_range = 0.4,\n",
    "                               zoom_range = 0.4,\n",
    "                               horizontal_flip = True,\n",
    "                               vertical_flip = True)"
   ]
  },
  {
   "cell_type": "code",
   "execution_count": 176,
   "metadata": {
    "id": "zgU-agVpezUj"
   },
   "outputs": [],
   "source": [
    "test_gen = ImageDataGenerator(rescale= 1./255)"
   ]
  },
  {
   "cell_type": "code",
   "execution_count": 177,
   "metadata": {
    "colab": {
     "base_uri": "https://localhost:8080/"
    },
    "id": "zJYxGcQEe4VD",
    "outputId": "a3a0909b-5f8c-4fa9-df01-4bca6eba232c"
   },
   "outputs": [
    {
     "name": "stdout",
     "output_type": "stream",
     "text": [
      "Found 96 images belonging to 2 classes.\n"
     ]
    }
   ],
   "source": [
    "train_set = train_gen.flow_from_directory('/content/drive/MyDrive/Data_Science/CNN/CNN_Using_SVM/Datasets/train',\n",
    "                                          class_mode='binary', target_size = (64,64), batch_size=32)"
   ]
  },
  {
   "cell_type": "code",
   "execution_count": 178,
   "metadata": {
    "colab": {
     "base_uri": "https://localhost:8080/"
    },
    "id": "LJ9DoK-EfVt7",
    "outputId": "2086bfe1-3f7a-4681-fa76-1eae27d51c5e"
   },
   "outputs": [
    {
     "name": "stdout",
     "output_type": "stream",
     "text": [
      "Found 27 images belonging to 2 classes.\n"
     ]
    }
   ],
   "source": [
    "test_set = train_gen.flow_from_directory('/content/drive/MyDrive/Data_Science/CNN/CNN_Using_SVM/Datasets/test',\n",
    "                                          class_mode='binary', target_size = (64,64), batch_size=32)"
   ]
  },
  {
   "cell_type": "code",
   "execution_count": 179,
   "metadata": {
    "id": "raOht-j3Wi3e"
   },
   "outputs": [],
   "source": [
    "from tensorflow.keras.layers import Conv2D, Dense, MaxPool2D, Flatten\n",
    "from tensorflow.keras.models import Sequential\n",
    "from tensorflow.keras.regularizers import l2"
   ]
  },
  {
   "cell_type": "code",
   "execution_count": 180,
   "metadata": {
    "id": "6oXEEiZKW5KQ"
   },
   "outputs": [],
   "source": [
    "model = Sequential()\n",
    "model.add(Conv2D(filters = 16, kernel_size= 10, strides = 2, padding = 'same', activation = 'relu',input_shape = [64,64,3]))\n",
    "model.add(MaxPool2D(pool_size =2, strides = 2))\n",
    "model.add(Conv2D(filters = 16, kernel_size= 10, strides = 2, padding = 'same', activation = 'relu',input_shape = [64,64,3]))\n",
    "model.add(MaxPool2D(pool_size = 2, strides = 2))\n",
    "model.add(Flatten())\n",
    "model.add(Dense(activation = 'relu', units = 128))\n",
    "# This below line is for the Binary Classification\n",
    "model.add(Dense(1, kernel_regularizer= l2(0.01), activation = 'linear'))\n",
    "# For SVM we will use kernel_regularizer= l2(0.01), activation = 'linear'\n",
    "# This below line is for the Multi class Classification we will use activation as 'softmax'"
   ]
  },
  {
   "cell_type": "code",
   "execution_count": 181,
   "metadata": {
    "id": "PYCDQxcBYADT"
   },
   "outputs": [],
   "source": [
    "model.compile(optimizer = 'adam', loss= 'hinge', metrics=['accuracy']) \n",
    "# For the SVM loss we will use loss= 'squared_hinge' for multiclass and hinge for the binary classification"
   ]
  },
  {
   "cell_type": "code",
   "execution_count": 182,
   "metadata": {
    "colab": {
     "base_uri": "https://localhost:8080/"
    },
    "id": "LrmCg7lEduHc",
    "outputId": "0799dc1d-87c8-4174-b874-6ea8b04b208f"
   },
   "outputs": [
    {
     "name": "stdout",
     "output_type": "stream",
     "text": [
      "Model: \"sequential_18\"\n",
      "_________________________________________________________________\n",
      "Layer (type)                 Output Shape              Param #   \n",
      "=================================================================\n",
      "conv2d_37 (Conv2D)           (None, 32, 32, 16)        4816      \n",
      "_________________________________________________________________\n",
      "max_pooling2d_36 (MaxPooling (None, 16, 16, 16)        0         \n",
      "_________________________________________________________________\n",
      "conv2d_38 (Conv2D)           (None, 8, 8, 16)          25616     \n",
      "_________________________________________________________________\n",
      "max_pooling2d_37 (MaxPooling (None, 4, 4, 16)          0         \n",
      "_________________________________________________________________\n",
      "flatten_12 (Flatten)         (None, 256)               0         \n",
      "_________________________________________________________________\n",
      "dense_24 (Dense)             (None, 128)               32896     \n",
      "_________________________________________________________________\n",
      "dense_25 (Dense)             (None, 1)                 129       \n",
      "=================================================================\n",
      "Total params: 63,457\n",
      "Trainable params: 63,457\n",
      "Non-trainable params: 0\n",
      "_________________________________________________________________\n"
     ]
    }
   ],
   "source": [
    "model.summary()"
   ]
  },
  {
   "cell_type": "code",
   "execution_count": 183,
   "metadata": {
    "colab": {
     "base_uri": "https://localhost:8080/"
    },
    "id": "TdJ_-XkXdyIc",
    "outputId": "b17a2396-2f36-43ce-b289-577f1908d444"
   },
   "outputs": [
    {
     "name": "stdout",
     "output_type": "stream",
     "text": [
      "Epoch 1/50\n",
      "3/3 [==============================] - 1s 312ms/step - loss: 1.0352 - accuracy: 0.5104 - val_loss: 0.9926 - val_accuracy: 0.4815\n",
      "Epoch 2/50\n",
      "3/3 [==============================] - 1s 195ms/step - loss: 1.0210 - accuracy: 0.5000 - val_loss: 1.0376 - val_accuracy: 0.4815\n",
      "Epoch 3/50\n",
      "3/3 [==============================] - 1s 194ms/step - loss: 1.0136 - accuracy: 0.5000 - val_loss: 0.9326 - val_accuracy: 0.7037\n",
      "Epoch 4/50\n",
      "3/3 [==============================] - 1s 201ms/step - loss: 1.0202 - accuracy: 0.5417 - val_loss: 0.9343 - val_accuracy: 0.5556\n",
      "Epoch 5/50\n",
      "3/3 [==============================] - 1s 196ms/step - loss: 0.9780 - accuracy: 0.5312 - val_loss: 0.9928 - val_accuracy: 0.5185\n",
      "Epoch 6/50\n",
      "3/3 [==============================] - 1s 201ms/step - loss: 0.9699 - accuracy: 0.5104 - val_loss: 0.9653 - val_accuracy: 0.4444\n",
      "Epoch 7/50\n",
      "3/3 [==============================] - 1s 200ms/step - loss: 0.9513 - accuracy: 0.5000 - val_loss: 0.9280 - val_accuracy: 0.5185\n",
      "Epoch 8/50\n",
      "3/3 [==============================] - 1s 198ms/step - loss: 0.9531 - accuracy: 0.5104 - val_loss: 0.8961 - val_accuracy: 0.6667\n",
      "Epoch 9/50\n",
      "3/3 [==============================] - 1s 196ms/step - loss: 0.9107 - accuracy: 0.5521 - val_loss: 0.8738 - val_accuracy: 0.5926\n",
      "Epoch 10/50\n",
      "3/3 [==============================] - 1s 199ms/step - loss: 0.8148 - accuracy: 0.5938 - val_loss: 0.7499 - val_accuracy: 0.7407\n",
      "Epoch 11/50\n",
      "3/3 [==============================] - 1s 191ms/step - loss: 1.0382 - accuracy: 0.4896 - val_loss: 0.9069 - val_accuracy: 0.7037\n",
      "Epoch 12/50\n",
      "3/3 [==============================] - 1s 193ms/step - loss: 0.9275 - accuracy: 0.5625 - val_loss: 0.8335 - val_accuracy: 0.6296\n",
      "Epoch 13/50\n",
      "3/3 [==============================] - 1s 193ms/step - loss: 0.9542 - accuracy: 0.5521 - val_loss: 0.8344 - val_accuracy: 0.5926\n",
      "Epoch 14/50\n",
      "3/3 [==============================] - 1s 197ms/step - loss: 0.8226 - accuracy: 0.6562 - val_loss: 0.8971 - val_accuracy: 0.5926\n",
      "Epoch 15/50\n",
      "3/3 [==============================] - 1s 193ms/step - loss: 0.8436 - accuracy: 0.6667 - val_loss: 0.8601 - val_accuracy: 0.5556\n",
      "Epoch 16/50\n",
      "3/3 [==============================] - 1s 195ms/step - loss: 0.8669 - accuracy: 0.5312 - val_loss: 0.9820 - val_accuracy: 0.4815\n",
      "Epoch 17/50\n",
      "3/3 [==============================] - 1s 195ms/step - loss: 0.8577 - accuracy: 0.5208 - val_loss: 0.7968 - val_accuracy: 0.6296\n",
      "Epoch 18/50\n",
      "3/3 [==============================] - 1s 195ms/step - loss: 0.8530 - accuracy: 0.5417 - val_loss: 0.8467 - val_accuracy: 0.6667\n",
      "Epoch 19/50\n",
      "3/3 [==============================] - 1s 192ms/step - loss: 0.8386 - accuracy: 0.6250 - val_loss: 0.8100 - val_accuracy: 0.6667\n",
      "Epoch 20/50\n",
      "3/3 [==============================] - 1s 200ms/step - loss: 0.7663 - accuracy: 0.6458 - val_loss: 0.7856 - val_accuracy: 0.6667\n",
      "Epoch 21/50\n",
      "3/3 [==============================] - 1s 198ms/step - loss: 0.7433 - accuracy: 0.5729 - val_loss: 0.7430 - val_accuracy: 0.7037\n",
      "Epoch 22/50\n",
      "3/3 [==============================] - 1s 201ms/step - loss: 0.7243 - accuracy: 0.6771 - val_loss: 0.8658 - val_accuracy: 0.6667\n",
      "Epoch 23/50\n",
      "3/3 [==============================] - 1s 210ms/step - loss: 0.7974 - accuracy: 0.5938 - val_loss: 0.7443 - val_accuracy: 0.7407\n",
      "Epoch 24/50\n",
      "3/3 [==============================] - 1s 200ms/step - loss: 0.7331 - accuracy: 0.6458 - val_loss: 0.7042 - val_accuracy: 0.6667\n",
      "Epoch 25/50\n",
      "3/3 [==============================] - 1s 198ms/step - loss: 0.7601 - accuracy: 0.6250 - val_loss: 0.8509 - val_accuracy: 0.6296\n",
      "Epoch 26/50\n",
      "3/3 [==============================] - 1s 191ms/step - loss: 0.6940 - accuracy: 0.7500 - val_loss: 0.7348 - val_accuracy: 0.6296\n",
      "Epoch 27/50\n",
      "3/3 [==============================] - 1s 194ms/step - loss: 0.7186 - accuracy: 0.5625 - val_loss: 0.7488 - val_accuracy: 0.5926\n",
      "Epoch 28/50\n",
      "3/3 [==============================] - 1s 191ms/step - loss: 0.7009 - accuracy: 0.7188 - val_loss: 0.8377 - val_accuracy: 0.5185\n",
      "Epoch 29/50\n",
      "3/3 [==============================] - 1s 200ms/step - loss: 0.7130 - accuracy: 0.6771 - val_loss: 0.9477 - val_accuracy: 0.6296\n",
      "Epoch 30/50\n",
      "3/3 [==============================] - 1s 201ms/step - loss: 0.7197 - accuracy: 0.6562 - val_loss: 0.7589 - val_accuracy: 0.7407\n",
      "Epoch 31/50\n",
      "3/3 [==============================] - 1s 200ms/step - loss: 0.7810 - accuracy: 0.6771 - val_loss: 0.6371 - val_accuracy: 0.7778\n",
      "Epoch 32/50\n",
      "3/3 [==============================] - 1s 202ms/step - loss: 0.7307 - accuracy: 0.6354 - val_loss: 0.8114 - val_accuracy: 0.6667\n",
      "Epoch 33/50\n",
      "3/3 [==============================] - 1s 198ms/step - loss: 0.6762 - accuracy: 0.6875 - val_loss: 0.8458 - val_accuracy: 0.6296\n",
      "Epoch 34/50\n",
      "3/3 [==============================] - 1s 196ms/step - loss: 0.6905 - accuracy: 0.7396 - val_loss: 0.8791 - val_accuracy: 0.6667\n",
      "Epoch 35/50\n",
      "3/3 [==============================] - 1s 194ms/step - loss: 0.7744 - accuracy: 0.6562 - val_loss: 0.8948 - val_accuracy: 0.5926\n",
      "Epoch 36/50\n",
      "3/3 [==============================] - 1s 196ms/step - loss: 0.7371 - accuracy: 0.6458 - val_loss: 0.7047 - val_accuracy: 0.7037\n",
      "Epoch 37/50\n",
      "3/3 [==============================] - 1s 195ms/step - loss: 0.6968 - accuracy: 0.6562 - val_loss: 0.8525 - val_accuracy: 0.7037\n",
      "Epoch 38/50\n",
      "3/3 [==============================] - 1s 194ms/step - loss: 0.6715 - accuracy: 0.7292 - val_loss: 0.8194 - val_accuracy: 0.5926\n",
      "Epoch 39/50\n",
      "3/3 [==============================] - 1s 192ms/step - loss: 0.7237 - accuracy: 0.6146 - val_loss: 0.8863 - val_accuracy: 0.6667\n",
      "Epoch 40/50\n",
      "3/3 [==============================] - 1s 196ms/step - loss: 0.6990 - accuracy: 0.6562 - val_loss: 0.8735 - val_accuracy: 0.7037\n",
      "Epoch 41/50\n",
      "3/3 [==============================] - 1s 197ms/step - loss: 0.6499 - accuracy: 0.7708 - val_loss: 0.9207 - val_accuracy: 0.6296\n",
      "Epoch 42/50\n",
      "3/3 [==============================] - 1s 215ms/step - loss: 0.6829 - accuracy: 0.6667 - val_loss: 0.6945 - val_accuracy: 0.7778\n",
      "Epoch 43/50\n",
      "3/3 [==============================] - 1s 223ms/step - loss: 0.6200 - accuracy: 0.7292 - val_loss: 0.7620 - val_accuracy: 0.7037\n",
      "Epoch 44/50\n",
      "3/3 [==============================] - 1s 201ms/step - loss: 0.6415 - accuracy: 0.7500 - val_loss: 0.8687 - val_accuracy: 0.7037\n",
      "Epoch 45/50\n",
      "3/3 [==============================] - 1s 199ms/step - loss: 0.6017 - accuracy: 0.7604 - val_loss: 0.8914 - val_accuracy: 0.7407\n",
      "Epoch 46/50\n",
      "3/3 [==============================] - 1s 194ms/step - loss: 0.7152 - accuracy: 0.6979 - val_loss: 0.8481 - val_accuracy: 0.7037\n",
      "Epoch 47/50\n",
      "3/3 [==============================] - 1s 199ms/step - loss: 0.6639 - accuracy: 0.6771 - val_loss: 0.7612 - val_accuracy: 0.7037\n",
      "Epoch 48/50\n",
      "3/3 [==============================] - 1s 200ms/step - loss: 0.6923 - accuracy: 0.7083 - val_loss: 0.8601 - val_accuracy: 0.6667\n",
      "Epoch 49/50\n",
      "3/3 [==============================] - 1s 195ms/step - loss: 0.5764 - accuracy: 0.7917 - val_loss: 0.6942 - val_accuracy: 0.7037\n",
      "Epoch 50/50\n",
      "3/3 [==============================] - 1s 198ms/step - loss: 0.6583 - accuracy: 0.6771 - val_loss: 1.0227 - val_accuracy: 0.6296\n"
     ]
    }
   ],
   "source": [
    "model_fit = model.fit(x = train_set, validation_data = test_set, epochs= 50)"
   ]
  },
  {
   "cell_type": "code",
   "execution_count": 184,
   "metadata": {
    "colab": {
     "base_uri": "https://localhost:8080/",
     "height": 530
    },
    "id": "y-rNbAiHeia5",
    "outputId": "cba4fa86-4779-4dc3-8e96-dfe102e463f5"
   },
   "outputs": [
    {
     "data": {
      "image/png": "[encoded data removed]",
      "text/plain": [
       "<Figure size 432x288 with 1 Axes>"
      ]
     },
     "metadata": {
      "needs_background": "light",
      "tags": []
     },
     "output_type": "display_data"
    },
    {
     "data": {
      "image/png": "[encoded data removed]",
      "text/plain": [
       "<Figure size 432x288 with 1 Axes>"
      ]
     },
     "metadata": {
      "needs_background": "light",
      "tags": []
     },
     "output_type": "display_data"
    },
    {
     "data": {
      "text/plain": [
       "<Figure size 432x288 with 0 Axes>"
      ]
     },
     "metadata": {
      "tags": []
     },
     "output_type": "display_data"
    }
   ],
   "source": [
    "# plot the loss\n",
    "import matplotlib.pyplot as plt\n",
    "plt.plot(model_fit.history['loss'], label='train loss')\n",
    "plt.plot(model_fit.history['val_loss'], label='val loss')\n",
    "plt.legend()\n",
    "plt.show()\n",
    "plt.savefig('LossVal_loss')\n",
    "\n",
    "# plot the accuracy\n",
    "plt.plot(model_fit.history['accuracy'], label='train accuracy')\n",
    "plt.plot(model_fit.history['val_accuracy'], label='val accuracy')\n",
    "plt.legend()\n",
    "plt.show()\n",
    "plt.savefig('AccVal_accuraacy')"
   ]
  },
  {
   "cell_type": "code",
   "execution_count": 185,
   "metadata": {
    "id": "8yJpBT5nfsB8"
   },
   "outputs": [],
   "source": [
    "from tensorflow.keras.models import load_model\n",
    "\n",
    "model.save('CNN_with_SVM_Dog_Cat.h5')"
   ]
  },
  {
   "cell_type": "code",
   "execution_count": 186,
   "metadata": {
    "id": "51FL0gitgGfa"
   },
   "outputs": [],
   "source": [
    "model = load_model('CNN_with_SVM_Dog_Cat.h5')"
   ]
  },
  {
   "cell_type": "code",
   "execution_count": 187,
   "metadata": {
    "colab": {
     "base_uri": "https://localhost:8080/"
    },
    "id": "IqqxI2X4gWdv",
    "outputId": "d4cd6cfe-76ab-4a26-a260-c3474afe615f"
   },
   "outputs": [
    {
     "name": "stdout",
     "output_type": "stream",
     "text": [
      "Model: \"sequential_18\"\n",
      "_________________________________________________________________\n",
      "Layer (type)                 Output Shape              Param #   \n",
      "=================================================================\n",
      "conv2d_37 (Conv2D)           (None, 32, 32, 16)        4816      \n",
      "_________________________________________________________________\n",
      "max_pooling2d_36 (MaxPooling (None, 16, 16, 16)        0         \n",
      "_________________________________________________________________\n",
      "conv2d_38 (Conv2D)           (None, 8, 8, 16)          25616     \n",
      "_________________________________________________________________\n",
      "max_pooling2d_37 (MaxPooling (None, 4, 4, 16)          0         \n",
      "_________________________________________________________________\n",
      "flatten_12 (Flatten)         (None, 256)               0         \n",
      "_________________________________________________________________\n",
      "dense_24 (Dense)             (None, 128)               32896     \n",
      "_________________________________________________________________\n",
      "dense_25 (Dense)             (None, 1)                 129       \n",
      "=================================================================\n",
      "Total params: 63,457\n",
      "Trainable params: 63,457\n",
      "Non-trainable params: 0\n",
      "_________________________________________________________________\n"
     ]
    }
   ],
   "source": [
    "model.summary()"
   ]
  },
  {
   "cell_type": "code",
   "execution_count": 188,
   "metadata": {
    "id": "JY3fkqhFgZwH"
   },
   "outputs": [],
   "source": [
    "from tensorflow.keras.preprocessing.image import load_img, img_to_array\n",
    "import numpy as np\n",
    "\n",
    "test_img = load_img('/content/drive/MyDrive/Data_Science/CNN/CNN_Using_SVM/Datasets/val/Dog.PNG', color_mode = 'rgb', target_size=(64,64))\n",
    "test_img = img_to_array(test_img)\n",
    "test_img = test_img/255\n",
    "test_img = np.expand_dims(test_img, axis = 0)\n",
    "result = model.predict(test_img)"
   ]
  },
  {
   "cell_type": "code",
   "execution_count": 189,
   "metadata": {
    "id": "ZnAPFP05g44k"
   },
   "outputs": [],
   "source": [
    "result = np.argmax(result)"
   ]
  },
  {
   "cell_type": "code",
   "execution_count": 190,
   "metadata": {
    "colab": {
     "base_uri": "https://localhost:8080/"
    },
    "id": "E7UFQDweiCjn",
    "outputId": "b7aee016-3760-451f-dcdb-b194c4ebff42"
   },
   "outputs": [
    {
     "data": {
      "text/plain": [
       "0"
      ]
     },
     "execution_count": 190,
     "metadata": {
      "tags": []
     },
     "output_type": "execute_result"
    }
   ],
   "source": [
    "result"
   ]
  }
 ],
 "metadata": {
  "accelerator": "GPU",
  "colab": {
   "collapsed_sections": [],
   "name": "CNN_Using_SVM_As_Final_Layer.ipynb",
   "provenance": []
  },
  "kernelspec": {
   "display_name": "Python 3",
   "language": "python",
   "name": "python3"
  },
  "language_info": {
   "codemirror_mode": {
    "name": "ipython",
    "version": 3
   },
   "file_extension": ".py",
   "mimetype": "text/x-python",
   "name": "python",
   "nbconvert_exporter": "python",
   "pygments_lexer": "ipython3",
   "version": "3.8.5"
  }
 },
 "nbformat": 4,
 "nbformat_minor": 1
}
